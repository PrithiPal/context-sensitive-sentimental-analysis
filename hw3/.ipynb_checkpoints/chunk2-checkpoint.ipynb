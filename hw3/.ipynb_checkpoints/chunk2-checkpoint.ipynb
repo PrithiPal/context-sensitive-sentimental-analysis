{
 "cells": [
  {
   "cell_type": "markdown",
   "metadata": {},
   "source": [
    "# Homework: Phrasal Chunking"
   ]
  },
  {
   "cell_type": "markdown",
   "metadata": {},
   "source": [
    "This is your documentation for the chunker homework."
   ]
  },
  {
   "cell_type": "code",
   "execution_count": 1,
   "metadata": {},
   "outputs": [],
   "source": [
    "import numpy as np \n",
    "import pandas as pd \n",
    "import itertools \n",
    "import smtplib\n",
    "import perc\n",
    "import default\n",
    "import sys\n",
    "from collections import defaultdict\n",
    "import gzip # use compressed data files\n",
    "import copy, operator, optparse, sys, os\n",
    "import re \n",
    "import time"
   ]
  },
  {
   "cell_type": "code",
   "execution_count": 22,
   "metadata": {},
   "outputs": [
    {
     "name": "stderr",
     "output_type": "stream",
     "text": [
      "reading data ...\n"
     ]
    }
   ],
   "source": [
    "feat_vec = {}\n",
    "tagset = []\n",
    "train_data = []\n",
    "\n",
    "tagset = perc.read_tagset(\"data/tagset.txt\")\n",
    "train_data = perc.read_labeled_data(\"data/train.txt.gz\", \"data/train.feats.gz\", verbose=False)\n",
    "print(\"reading data ...\", file=sys.stderr)"
   ]
  },
  {
   "cell_type": "code",
   "execution_count": 153,
   "metadata": {
    "scrolled": true
   },
   "outputs": [
    {
     "name": "stdout",
     "output_type": "stream",
     "text": [
      "epoch 0\n",
      "{}\n",
      "{}\n",
      "{}\n",
      "{}\n",
      "{}\n",
      "{}\n",
      "{}\n",
      "{}\n",
      "{}\n",
      "{}\n",
      "{}\n",
      "{}\n",
      "{}\n",
      "{}\n",
      "{}\n",
      "{}\n",
      "{}\n",
      "{}\n",
      "{}\n",
      "{}\n",
      "{}\n",
      "{}\n",
      "{}\n",
      "{}\n",
      "{}\n",
      "{}\n",
      "{}\n",
      "{}\n",
      "{}\n",
      "{}\n",
      "{}\n",
      "{}\n",
      "{}\n",
      "{}\n",
      "{}\n",
      "{}\n",
      "{}\n",
      "{}\n",
      "{}\n",
      "{}\n",
      "{}\n",
      "{}\n",
      "{}\n",
      "{}\n",
      "{}\n",
      "{}\n",
      "{}\n",
      "{}\n",
      "{}\n",
      "{}\n",
      "{}\n",
      "{}\n",
      "{}\n",
      "{}\n",
      "{}\n",
      "{}\n",
      "{}\n",
      "{}\n",
      "{}\n",
      "{}\n",
      "{}\n",
      "{}\n",
      "{}\n",
      "{}\n",
      "{}\n",
      "{}\n",
      "{}\n",
      "{}\n",
      "{}\n",
      "{}\n",
      "{}\n",
      "{}\n",
      "{}\n",
      "{}\n",
      "{}\n",
      "{}\n",
      "{}\n",
      "{}\n",
      "{}\n",
      "{}\n",
      "{}\n",
      "{}\n",
      "{}\n",
      "{}\n",
      "{}\n",
      "{}\n",
      "{}\n",
      "{}\n",
      "{}\n",
      "{}\n",
      "{}\n",
      "{}\n",
      "{}\n",
      "{}\n",
      "{}\n",
      "{}\n",
      "{}\n",
      "{}\n",
      "{}\n",
      "{}\n",
      "Num of Mistakes= 1822\n",
      "Training finished in  1.0805821418762207\n",
      "wrote model to disk\n"
     ]
    }
   ],
   "source": [
    "def perc_train(train_data, tagset, numepochs):\n",
    "    t1=time.time()\n",
    "    FEATURE_VEC_SENT=[] \n",
    "    FEATURE_DIC={}\n",
    "    default_tag=tagset[0]\n",
    "    WEIGHT_VECTOR=[]\n",
    "    e=0\n",
    "    for epoch in range(numepochs) : \n",
    "        print(\"epoch {}\".format(e))\n",
    "        MISTAKES=0\n",
    "        sent_ind=0\n",
    "        ## ONE SENTENCE PARSING \n",
    "       \n",
    "        \n",
    "        for (sent_labels,sent_features) in train_data : \n",
    "            \n",
    "            #print(\"sentence=\",sent_labels)\n",
    "            \n",
    "            \n",
    "            #argmax_tag=[]\n",
    "             \n",
    "            if epoch==0 : \n",
    "                FEATURE_DIC={}\n",
    "            elif epoch>0: \n",
    "                FEATURE_DIC=WEIGHT_VECTOR[sent_ind]\n",
    "            \n",
    "          \n",
    "            print(FEATURE_DIC)\n",
    "            argmax_tag=perc.perc_test(FEATURE_DIC, sent_labels, sent_features, tagset, default_tag)   \n",
    "            \n",
    "            \n",
    "            \n",
    "\n",
    "                \n",
    "            labels = copy.deepcopy(sent_labels)\n",
    "            labels.insert(0, '_B-1 _B-1 _B-1')\n",
    "            labels.insert(0, '_B-2 _B-2 _B-2') # first two 'words' are _B-2 _B-1\n",
    "            labels.append('_B+1 _B+1 _B+1')\n",
    "            labels.append('_B+2 _B+2 _B+2') # last two 'words' are _B+1 _B+2  \n",
    "            N = len(labels)   \n",
    "            \n",
    "            SUM=0\n",
    "            ## for each word chunk\n",
    "            feat_index=0\n",
    "            j=0\n",
    "            for i in range(2, N-2):\n",
    "                \n",
    "                (feat_index, feats) = perc.feats_for_word(feat_index, sent_features)  \n",
    "               # print(feats)\n",
    "                fields = labels[i].split()    \n",
    "                \n",
    "                \n",
    "                word = fields[0]\n",
    "                actual_tag=fields[2]    \n",
    "               \n",
    "        \n",
    "                #print(\"word_index = {}, word = {}, actual_tag = {}, argmax_tag= {}\".format(i,word,actual_tag,argmax_tag[i])\n",
    "                amax_tag=argmax_tag[j]\n",
    "                \n",
    "                local_keys=list(FEATURE_DIC.keys())\n",
    "                feat_list=[(x,actual_tag,amax_tag) for x in feats]\n",
    "\n",
    "                \n",
    "                if actual_tag!= amax_tag : \n",
    "                    MISTAKES+=1\n",
    "                \n",
    "                ## UPDATE THE WEIGHTS HERE.\n",
    "                \n",
    "               \n",
    "                for (f,b,c) in feat_list :  \n",
    "                    \n",
    "                    if b!=c : \n",
    "                        SUM+=1\n",
    "                        if (f,b) in local_keys : \n",
    "                            FEATURE_DIC[f,b]=FEATURE_DIC[f,b]+1\n",
    "                        else :\n",
    "                            FEATURE_DIC[f,b]=1\n",
    "                    \n",
    "                        if (f,c) in local_keys : \n",
    "                            FEATURE_DIC[f,c]=FEATURE_DIC[f,c]-1\n",
    "                        else : \n",
    "                            FEATURE_DIC[f,c]=-1\n",
    "                        \n",
    "                j=j+1                 \n",
    "            \n",
    "            \n",
    "           \n",
    "            \n",
    "            if epoch == 0 : \n",
    "                WEIGHT_VECTOR.append(dict(list(FEATURE_DIC.items())))   \n",
    "            else :\n",
    "                WEIGHT_VECTOR[sent_ind]=dict(list(FEATURE_DIC.items()))\n",
    "            \n",
    "            \n",
    "            sent_ind=sent_ind+1  \n",
    "            \n",
    "        print('Num of Mistakes=',MISTAKES)   \n",
    "        e=e+1\n",
    "        \n",
    "        \n",
    "    print(\"Training finished in \",time.time()-t1)\n",
    "    return WEIGHT_VECTOR\n",
    "    #return FEATURE_DIC            \n",
    "            \n",
    "N=100\n",
    "feat_vec = perc_train(train_data[:N], tagset, 1)\n",
    "perc.perc_write_to_file(feat_vec, \"default.model\")\n",
    "print(\"wrote model to disk\")"
   ]
  },
  {
   "cell_type": "code",
   "execution_count": null,
   "metadata": {},
   "outputs": [],
   "source": []
  },
  {
   "cell_type": "code",
   "execution_count": 133,
   "metadata": {},
   "outputs": [
    {
     "ename": "KeyError",
     "evalue": "0",
     "output_type": "error",
     "traceback": [
      "\u001b[0;31m---------------------------------------------------------------------------\u001b[0m",
      "\u001b[0;31mKeyError\u001b[0m                                  Traceback (most recent call last)",
      "\u001b[0;32m<ipython-input-133-692c848b3565>\u001b[0m in \u001b[0;36m<module>\u001b[0;34m\u001b[0m\n\u001b[1;32m      1\u001b[0m \u001b[0mF\u001b[0m\u001b[0;34m=\u001b[0m\u001b[0;34m{\u001b[0m\u001b[0;34m}\u001b[0m\u001b[0;34m\u001b[0m\u001b[0m\n\u001b[1;32m      2\u001b[0m \u001b[0;32mfor\u001b[0m \u001b[0mi\u001b[0m \u001b[0;32min\u001b[0m \u001b[0mrange\u001b[0m\u001b[0;34m(\u001b[0m\u001b[0mlen\u001b[0m\u001b[0;34m(\u001b[0m\u001b[0mfeat_vec\u001b[0m\u001b[0;34m)\u001b[0m\u001b[0;34m)\u001b[0m \u001b[0;34m:\u001b[0m\u001b[0;34m\u001b[0m\u001b[0m\n\u001b[0;32m----> 3\u001b[0;31m     \u001b[0ma\u001b[0m\u001b[0;34m=\u001b[0m\u001b[0mfeat_vec\u001b[0m\u001b[0;34m[\u001b[0m\u001b[0mi\u001b[0m\u001b[0;34m]\u001b[0m\u001b[0;34m.\u001b[0m\u001b[0mcopy\u001b[0m\u001b[0;34m(\u001b[0m\u001b[0;34m)\u001b[0m\u001b[0;34m\u001b[0m\u001b[0m\n\u001b[0m\u001b[1;32m      4\u001b[0m     \u001b[0mF\u001b[0m\u001b[0;34m.\u001b[0m\u001b[0mupdate\u001b[0m\u001b[0;34m(\u001b[0m\u001b[0ma\u001b[0m\u001b[0;34m)\u001b[0m\u001b[0;34m\u001b[0m\u001b[0m\n\u001b[1;32m      5\u001b[0m \u001b[0mfeat_vec\u001b[0m\u001b[0;34m=\u001b[0m\u001b[0mF\u001b[0m\u001b[0;34m.\u001b[0m\u001b[0mdeepcopy\u001b[0m\u001b[0;34m(\u001b[0m\u001b[0;34m)\u001b[0m\u001b[0;34m\u001b[0m\u001b[0m\n",
      "\u001b[0;31mKeyError\u001b[0m: 0"
     ]
    }
   ],
   "source": [
    "F={}\n",
    "\n",
    "for i in range(len(feat_vec2)) : \n",
    "    a=feat_vec2[i].copy()\n",
    "    F.update(a)\n",
    "\n",
    "feat_vec=F.copy()"
   ]
  },
  {
   "cell_type": "code",
   "execution_count": null,
   "metadata": {},
   "outputs": [],
   "source": [
    "df=pd.DataFrame([[x[0][0],x[0][1],x[1]] for x in feat_vec.items()],columns=['feat','tag','weight'])"
   ]
  },
  {
   "cell_type": "code",
   "execution_count": null,
   "metadata": {},
   "outputs": [],
   "source": [
    "df1=df.groupby(['feat','tag']).agg(sum).reset_index()\n",
    "ar=df1[df1['weight']>1].values.tolist()\n",
    "feat_vec=dict([ ((x[0],x[1]),x[2]) for x in ar])"
   ]
  },
  {
   "cell_type": "code",
   "execution_count": 142,
   "metadata": {},
   "outputs": [
    {
     "name": "stderr",
     "output_type": "stream",
     "text": [
      "reading test data ...\n",
      "done.\n"
     ]
    }
   ],
   "source": [
    "%%capture --no-stderr output\n",
    "print(\"reading test data ...\", file=sys.stderr)\n",
    "test_data = perc.read_labeled_data(\"data/dev.txt\", \"data/dev.feats\", verbose=False)\n",
    "print(\"done.\", file=sys.stderr)\n",
    "#feat_vec = perc.perc_read_from_file(\"default.model\")\n",
    "perc.perc_testall(feat_vec, test_data, tagset)"
   ]
  },
  {
   "cell_type": "code",
   "execution_count": 143,
   "metadata": {
    "scrolled": true
   },
   "outputs": [
    {
     "name": "stdout",
     "output_type": "stream",
     "text": [
      "processed 500 sentences with 10375 tokens and 5783 phrases; found phrases: 5344; correct phrases: 4127\n",
      "             ADJP: precision:  60.00%; recall:  27.27%; F1:  37.50; found:     45; correct:     99\n",
      "             ADVP: precision:  65.05%; recall:  33.17%; F1:  43.93; found:    103; correct:    202\n",
      "            CONJP: precision:   0.00%; recall:   0.00%; F1:   0.00; found:      9; correct:      5\n",
      "             INTJ: precision:   0.00%; recall:   0.00%; F1:   0.00; found:     12; correct:      1\n",
      "               NP: precision:  70.40%; recall:  67.91%; F1:  69.13; found:   2919; correct:   3026\n",
      "               PP: precision:  90.30%; recall:  89.19%; F1:  89.74; found:   1206; correct:   1221\n",
      "              PRT: precision:  46.15%; recall:  27.27%; F1:  34.29; found:     13; correct:     22\n",
      "             SBAR: precision:  70.37%; recall:  53.27%; F1:  60.64; found:     81; correct:    107\n",
      "               VP: precision:  86.40%; recall:  75.09%; F1:  80.35; found:    956; correct:   1100\n",
      "accuracy:  82.74%; precision:  77.23%; recall:  71.36%; F1:  74.18\n",
      "Score: 74.18\n"
     ]
    }
   ],
   "source": [
    "import score_chunks\n",
    "boundary = \"-X-\" # something to use as boundary between sentences\n",
    "outside = \"O\" # tag used to mark the outside of any chunk\n",
    "conlleval = False # use conlleval (should be False for most use cases)\n",
    "numfeats = 2 # number of columns to consider as features, typically \"word POStag\"\n",
    "(test, _) = score_chunks.readTestFile(str(output), boundary, outside, conlleval, numfeats)\n",
    "with open(\"data/reference500.txt\") as f:\n",
    "    (reference, _) = score_chunks.readTestFile(f.read(), boundary, outside, conlleval, numfeats)\n",
    "print(\"Score: %.2f\" % score_chunks.corpus_fmeasure(reference, test, False))"
   ]
  },
  {
   "cell_type": "code",
   "execution_count": null,
   "metadata": {},
   "outputs": [],
   "source": []
  }
 ],
 "metadata": {
  "kernelspec": {
   "display_name": "Python 3",
   "language": "python",
   "name": "python3"
  },
  "language_info": {
   "codemirror_mode": {
    "name": "ipython",
    "version": 3
   },
   "file_extension": ".py",
   "mimetype": "text/x-python",
   "name": "python",
   "nbconvert_exporter": "python",
   "pygments_lexer": "ipython3",
   "version": "3.7.0"
  }
 },
 "nbformat": 4,
 "nbformat_minor": 2
}

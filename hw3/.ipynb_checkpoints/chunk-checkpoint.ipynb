{
 "cells": [
  {
   "cell_type": "markdown",
   "metadata": {},
   "source": [
    "# Homework: Phrasal Chunking"
   ]
  },
  {
   "cell_type": "markdown",
   "metadata": {},
   "source": [
    "This is your documentation for the chunker homework."
   ]
  },
  {
   "cell_type": "code",
   "execution_count": 1,
   "metadata": {},
   "outputs": [],
   "source": [
    "import numpy as np \n",
    "import pandas as pd \n",
    "import itertools \n",
    "import smtplib\n",
    "import perc\n",
    "import default\n",
    "import sys\n",
    "from collections import defaultdict\n",
    "import gzip # use compressed data files\n",
    "import copy, operator, optparse, sys, os\n",
    "import re \n",
    "import time"
   ]
  },
  {
   "cell_type": "code",
   "execution_count": 2,
   "metadata": {},
   "outputs": [
    {
     "name": "stderr",
     "output_type": "stream",
     "text": [
      "reading data ...\n"
     ]
    }
   ],
   "source": [
    "feat_vec = {}\n",
    "tagset = []\n",
    "train_data = []\n",
    "\n",
    "tagset = perc.read_tagset(\"data/tagset.txt\")\n",
    "train_data = perc.read_labeled_data(\"data/train.txt.gz\", \"data/train.feats.gz\", verbose=False)\n",
    "print(\"reading data ...\", file=sys.stderr)"
   ]
  },
  {
   "cell_type": "code",
   "execution_count": 6,
   "metadata": {
    "scrolled": false
   },
   "outputs": [
    {
     "name": "stdout",
     "output_type": "stream",
     "text": [
      "training of 100 sentences begin\n",
      "epoch 0\n",
      "Training finished in  4.55619478225708\n",
      "wrote model to disk\n"
     ]
    }
   ],
   "source": [
    "def perc_train(train_data, tagset, numepochs):\n",
    "    t1=time.time()\n",
    "    FEATURE_VEC_SENT=[] \n",
    "    FEATURE_DIC={}\n",
    "    GLOBAL_DIC=[]\n",
    "    \n",
    "    default_tag=tagset[0]\n",
    "    \n",
    "    e=0\n",
    "    for epoch in range(numepochs) : \n",
    "        print(\"epoch {}\".format(e))\n",
    "        \n",
    "        sent_ind=0\n",
    "        \n",
    "        ## ONE SENTENCE PARSING \n",
    "        for (sent_labels,sent_features) in train_data : \n",
    "            #print('sent ',sent_ind)\n",
    "            \n",
    "            FEATURE_DIC={}\n",
    "            \n",
    "            \n",
    "            if sent_ind==0 : \n",
    "                GLOBAL_DIC=FEATURE_DIC\n",
    "\n",
    "            argmax_tag=perc.perc_test(GLOBAL_DIC, sent_labels, sent_features, tagset, default_tag)           \n",
    "            \n",
    "            ## for each word\n",
    "            for w,i in zip(sent_labels,range(len(sent_labels))) : \n",
    "                \n",
    "                (feat_index, feats) = perc.feats_for_word(i, sent_features)    \n",
    "                actual_tag=re.findall(r\"([A-Z\\-]*)$\",w)[0]\n",
    "                word=re.findall(r\"^([A-Za-z]*) *\",w)[0]\n",
    "                #print(\"word_index = {}, word = {}, actual_tag = {}, argmax_tag= {}\".format(i,word,actual_tag,argmax_tag[i]))\n",
    "               \n",
    "                \n",
    "                for (f,t) in itertools.product(feats,[actual_tag]) : \n",
    "                    #print(\"({},{}) {}\".format(f,t,argmax_tag[i]))\n",
    "                    if t!= argmax_tag[i] : \n",
    "                        #print(\"yes\")   \n",
    "                        if (f,t) in FEATURE_DIC.keys() and (f,argmax_tag[i]) in FEATURE_DIC.keys() : \n",
    "                            FEATURE_DIC[(f,t)]=FEATURE_DIC[f,t]+1\n",
    "                            FEATURE_DIC[(f,argmax_tag[i])]=FEATURE_DIC[(f,argmax_tag[i])]-1\n",
    "                            \n",
    "                        else : \n",
    "                            FEATURE_DIC[(f,t)]=1\n",
    "                            FEATURE_DIC[(f,argmax_tag[i])]=-1\n",
    "                \n",
    "            #print(list(GLOBAL_DIC.values())[:10])\n",
    "                            \n",
    "            ## appending to global feature vector\n",
    "            \n",
    "           \n",
    "            if sent_ind!=0 : \n",
    "                ## appending new features of current feature vector if not already in global\n",
    "                 for k in list(FEATURE_DIC.keys()) : \n",
    "                    global_k=list(GLOBAL_DIC.keys())\n",
    "                    if k not in global_k : \n",
    "                        GLOBAL_DIC[k]=FEATURE_DIC[k]\n",
    "                    else : \n",
    "                        GLOBAL_DIC[k]=GLOBAL_DIC[k] + FEATURE_DIC[k]\n",
    "            \n",
    "            \n",
    "            sent_ind=sent_ind+1\n",
    "        \n",
    "        \n",
    "        e=e+1\n",
    "        \n",
    "        \n",
    "    print(\"Training finished in \",time.time()-t1)\n",
    "    return GLOBAL_DIC\n",
    "                \n",
    "            \n",
    "            \n",
    "N=100\n",
    "print('training of {} sentences begin'.format(N))\n",
    "feat_vec = perc_train(train_data[:N], tagset, 1)\n",
    "perc.perc_write_to_file(feat_vec, \"default.model\")\n",
    "print(\"wrote model to disk\")"
   ]
  },
  {
   "cell_type": "code",
   "execution_count": 7,
   "metadata": {},
   "outputs": [
    {
     "name": "stderr",
     "output_type": "stream",
     "text": [
      "reading test data ...\n",
      "done.\n"
     ]
    }
   ],
   "source": [
    "%%capture --no-stderr output\n",
    "print(\"reading test data ...\", file=sys.stderr)\n",
    "test_data = perc.read_labeled_data(\"data/dev.txt\", \"data/dev.feats\", verbose=False)\n",
    "print(\"done.\", file=sys.stderr)\n",
    "feat_vec = perc.perc_read_from_file(\"default.model\")\n",
    "perc.perc_testall(feat_vec, test_data, tagset)"
   ]
  },
  {
   "cell_type": "code",
   "execution_count": 8,
   "metadata": {
    "scrolled": true
   },
   "outputs": [
    {
     "name": "stdout",
     "output_type": "stream",
     "text": [
      "processed 500 sentences with 10375 tokens and 5783 phrases; found phrases: 7725; correct phrases: 415\n",
      "             ADJP: precision:   1.42%; recall:   2.02%; F1:   1.67; found:    141; correct:     99\n",
      "             ADVP: precision:   6.38%; recall:   1.49%; F1:   2.41; found:     47; correct:    202\n",
      "            CONJP: precision:   0.00%; recall:   0.00%; F1:   0.00; found:      0; correct:      5\n",
      "             INTJ: precision:   0.00%; recall:   0.00%; F1:   0.00; found:      0; correct:      1\n",
      "               NP: precision:   4.23%; recall:   6.38%; F1:   5.08; found:   4565; correct:   3026\n",
      "               PP: precision:  12.77%; recall:  11.71%; F1:  12.22; found:   1120; correct:   1221\n",
      "              PRT: precision:   0.00%; recall:   0.00%; F1:   0.00; found:      0; correct:     22\n",
      "             SBAR: precision:   0.00%; recall:   0.00%; F1:   0.00; found:    141; correct:    107\n",
      "               VP: precision:   4.32%; recall:   6.73%; F1:   5.27; found:   1711; correct:   1100\n",
      "accuracy:  12.23%; precision:   5.37%; recall:   7.18%; F1:   6.14\n",
      "Score: 6.14\n"
     ]
    }
   ],
   "source": [
    "import score_chunks\n",
    "boundary = \"-X-\" # something to use as boundary between sentences\n",
    "outside = \"O\" # tag used to mark the outside of any chunk\n",
    "conlleval = False # use conlleval (should be False for most use cases)\n",
    "numfeats = 2 # number of columns to consider as features, typically \"word POStag\"\n",
    "(test, _) = score_chunks.readTestFile(str(output), boundary, outside, conlleval, numfeats)\n",
    "with open(\"data/reference500.txt\") as f:\n",
    "    (reference, _) = score_chunks.readTestFile(f.read(), boundary, outside, conlleval, numfeats)\n",
    "print(\"Score: %.2f\" % score_chunks.corpus_fmeasure(reference, test, False))"
   ]
  },
  {
   "cell_type": "code",
   "execution_count": 59,
   "metadata": {},
   "outputs": [
    {
     "data": {
      "text/plain": [
       "''"
      ]
     },
     "execution_count": 59,
     "metadata": {},
     "output_type": "execute_result"
    }
   ],
   "source": [
    "str(output)"
   ]
  },
  {
   "cell_type": "code",
   "execution_count": null,
   "metadata": {},
   "outputs": [],
   "source": []
  }
 ],
 "metadata": {
  "kernelspec": {
   "display_name": "Python 3",
   "language": "python",
   "name": "python3"
  },
  "language_info": {
   "codemirror_mode": {
    "name": "ipython",
    "version": 3
   },
   "file_extension": ".py",
   "mimetype": "text/x-python",
   "name": "python",
   "nbconvert_exporter": "python",
   "pygments_lexer": "ipython3",
   "version": "3.7.0"
  }
 },
 "nbformat": 4,
 "nbformat_minor": 2
}

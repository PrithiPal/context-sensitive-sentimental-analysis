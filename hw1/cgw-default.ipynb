{
 "cells": [
  {
   "cell_type": "markdown",
   "metadata": {},
   "source": [
    "# Homework: Competitive Grammar Writing"
   ]
  },
  {
   "cell_type": "code",
   "execution_count": 1,
   "metadata": {},
   "outputs": [],
   "source": [
    "from pcfg_parse_gen import Pcfg, PcfgGenerator, CkyParse\n",
    "import nltk\n",
    "\n",
    "def print_tree(tree_string):\n",
    "    tree_string = tree_string.strip()\n",
    "    tree = nltk.Tree.fromstring(tree_string)\n",
    "    tree.pretty_print()\n",
    "\n",
    "def draw_tree(tree_string):\n",
    "    tree_string = tree_string.strip()\n",
    "    tree = nltk.Tree.fromstring(tree_string)\n",
    "    tree.draw()"
   ]
  },
  {
   "cell_type": "markdown",
   "metadata": {},
   "source": [
    "## Parsing sentences with your grammar\n",
    "\n",
    "While you are developing your grammar you should parse with your grammar both example sentences and samples from your and other grammars."
   ]
  },
  {
   "cell_type": "code",
   "execution_count": 2,
   "metadata": {},
   "outputs": [
    {
     "name": "stderr",
     "output_type": "stream",
     "text": [
      "#reading grammar file: S1.gr\n",
      "#reading grammar file: S2.gr\n",
      "#reading grammar file: Vocab.gr\n"
     ]
    }
   ],
   "source": [
    "parse_gram = Pcfg([\"S1.gr\",\"S2.gr\",\"Vocab.gr\"])"
   ]
  },
  {
   "cell_type": "code",
   "execution_count": 3,
   "metadata": {},
   "outputs": [
    {
     "name": "stdout",
     "output_type": "stream",
     "text": [
      "(TOP (S1 (NP (Proper Arthur) ) (_VP (VP (VerbT is) (NP (Det the) (Nbar (Noun king) ))) (Punc .))) )\n",
      "-cross entropy: -3.7863679540999504\n",
      "             TOP              \n",
      "              |                \n",
      "              S1              \n",
      "   ___________|___             \n",
      "  |              _VP          \n",
      "  |            ___|________    \n",
      "  |           VP           |  \n",
      "  |       ____|___         |   \n",
      "  |      |        NP       |  \n",
      "  |      |     ___|___     |   \n",
      "  NP     |    |      Nbar  |  \n",
      "  |      |    |       |    |   \n",
      "Proper VerbT Det     Noun Punc\n",
      "  |      |    |       |    |   \n",
      "Arthur   is  the     king  .  \n",
      "\n"
     ]
    },
    {
     "name": "stderr",
     "output_type": "stream",
     "text": [
      "#parsing: ['Arthur', 'is', 'the', 'king', '.']\n",
      "#-cross entropy (bits/word): -3.78637\n"
     ]
    }
   ],
   "source": [
    "parser = CkyParse(parse_gram, beamsize=0.00001)\n",
    "ce, trees = parser.parse_sentences([\"Arthur is the king .\"])\n",
    "print(\"-cross entropy: {}\".format(ce))\n",
    "for tree_string in trees:\n",
    "    print_tree(tree_string)"
   ]
  },
  {
   "cell_type": "code",
   "execution_count": 4,
   "metadata": {},
   "outputs": [
    {
     "name": "stdout",
     "output_type": "stream",
     "text": [
      "(TOP (S2 (_Misc (Misc five) (_Misc (Misc strangers) (_Misc (Misc are) (_Prep (Prep at) (_Det (Det the) (_Misc (Misc (_Round Round) (_Table Table)) (_Misc (Misc .) ))))))) ) )\n",
      "-cross entropy: -9.807330330570931\n",
      "        TOP                                             \n",
      "         |                                               \n",
      "         S2                                             \n",
      "         |                                               \n",
      "       _Misc                                            \n",
      "  _______|_______                                        \n",
      " |             _Misc                                    \n",
      " |        _______|__________                             \n",
      " |       |                _Misc                         \n",
      " |       |        __________|_____                       \n",
      " |       |       |              _Prep                   \n",
      " |       |       |     ___________|_____                 \n",
      " |       |       |    |                _Det             \n",
      " |       |       |    |      ___________|_____           \n",
      " |       |       |    |     |               _Misc       \n",
      " |       |       |    |     |            _____|______    \n",
      " |       |       |    |     |          Misc        _Misc\n",
      " |       |       |    |     |      _____|_____       |   \n",
      "Misc    Misc    Misc Prep  Det  _Round      _Table  Misc\n",
      " |       |       |    |     |     |           |      |   \n",
      "five strangers  are   at   the  Round       Table    .  \n",
      "\n"
     ]
    },
    {
     "name": "stderr",
     "output_type": "stream",
     "text": [
      "#parsing: ['five', 'strangers', 'are', 'at', 'the', 'Round', 'Table', '.']\n",
      "#-cross entropy (bits/word): -9.80733\n"
     ]
    }
   ],
   "source": [
    "ce, trees = parser.parse_sentences([\"five strangers are at the Round Table .\"])\n",
    "print(\"-cross entropy: {}\".format(ce))\n",
    "for tree_string in trees:\n",
    "    print_tree(tree_string)"
   ]
  },
  {
   "cell_type": "markdown",
   "metadata": {},
   "source": [
    "Use `parse_file` to parse a file of sentences."
   ]
  },
  {
   "cell_type": "code",
   "execution_count": 5,
   "metadata": {},
   "outputs": [
    {
     "name": "stdout",
     "output_type": "stream",
     "text": [
      "(TOP (S1 (NP (Proper Arthur) ) (_VP (VP (VerbT is) (NP (Det the) (Nbar (Noun king) ))) (Punc .))) )\n",
      "(TOP (S1 (NP (Proper Arthur) ) (_VP (VP (VerbT rides) (NP (Det the) (Nbar (Nbar (Noun horse) ) (PP (Prep near) (NP (Det the) (Nbar (Noun castle) )))))) (Punc .))) )\n",
      "(TOP (S2 (_Misc (Misc riding) (_Misc (Misc to) (_Misc (Misc Camelot) (_VerbT (VerbT is) (_Misc (Misc hard) (_Misc (Misc .) )))))) ) )\n",
      "(TOP (S2 (_Misc (Misc do) (_Misc (Misc coconuts) (_Misc (Misc speak) (_Misc (Misc ?) )))) ) )\n",
      "(TOP (S2 (_Misc (Misc what) (_Misc (Misc does) (_Proper (Proper Arthur) (_Misc (Misc ride) (_Misc (Misc ?) ))))) ) )\n",
      "(TOP (S2 (_Misc (Misc who) (_Misc (Misc does) (_Proper (Proper Arthur) (_Misc (Misc suggest) (_Misc (Misc she) (_Misc (Misc carry) (_Misc (Misc ?) ))))))) ) )\n",
      "(TOP (S2 (_Misc (Misc why) (_Misc (Misc does) (_Misc (Misc England) (_Misc (Misc have) (_Det (Det a) (_Noun (Noun king) (_Misc (Misc ?) ))))))) ) )\n",
      "(TOP (S2 (_Misc (Misc are) (_Misc (Misc they) (_Misc (Misc suggesting) (_Proper (Proper Arthur) (_Misc (Misc ride) (_Misc (Misc to) (_Misc (Misc Camelot) (_Misc (Misc ?) )))))))) ) )\n",
      "(TOP (S2 (_Misc (Misc five) (_Misc (Misc strangers) (_Misc (Misc are) (_Prep (Prep at) (_Det (Det the) (_Misc (Misc (_Round Round) (_Table Table)) (_Misc (Misc .) ))))))) ) )\n",
      "(TOP (S2 (_Proper (Proper Guinevere) (_Misc (Misc might) (_Misc (Misc have) (_Misc (Misc known) (_Misc (Misc .) ))))) ) )\n",
      "(TOP (S2 (_Proper (Proper Guinevere) (_Misc (Misc should) (_Misc (Misc be) (_Misc (Misc riding) (_Prep (Prep with) (_Proper (Proper Patsy) (_Misc (Misc .) ))))))) ) )\n",
      "(TOP (S2 (_Misc (Misc it) (_VerbT (VerbT is) (_Proper (Proper (_Sir Sir) (_Lancelot Lancelot)) (_Misc (Misc who) (_Misc (Misc knows) (_Proper (Proper Zoot) (_Misc (Misc !) ))))))) ) )\n",
      "(TOP (S2 (_Misc (Misc either) (_Proper (Proper Arthur) (_Misc (Misc knows) (_Misc (Misc or) (_Proper (Proper Patsy) (_Misc (Misc does) (_Misc (Misc .) ))))))) ) )\n",
      "(TOP (S2 (_Misc (Misc neither) (_Proper (Proper (_Sir Sir) (_Lancelot Lancelot)) (_Misc (Misc nor) (_Proper (Proper Guinevere) (_Misc (Misc will) (_Misc (Misc speak) (_Prep (Prep of) (_Misc (Misc it) (_Misc (Misc .) ))))))))) ) )\n",
      "(TOP (S2 (_Det (Det the) (_Misc (Misc (_Holy Holy) (_Grail Grail)) (_Misc (Misc was) (_Misc (Misc covered) (_Prep (Prep by) (_Det (Det a) (_Misc (Misc yellow) (_Noun (Noun fruit) (_Misc (Misc .) ))))))))) ) )\n",
      "(TOP (S2 (_Proper (Proper Zoot) (_Misc (Misc might) (_Misc (Misc have) (_Misc (Misc been) (_Misc (Misc carried) (_Prep (Prep by) (_Det (Det a) (_Noun (Noun swallow) (_Misc (Misc .) ))))))))) ) )\n",
      "(TOP (S2 (_Proper (Proper Arthur) (_Misc (Misc rode) (_Misc (Misc to) (_Misc (Misc Camelot) (_Misc (Misc and) (_Misc (Misc drank) (_Prep (Prep from) (_Misc (Misc his) (_Noun (Noun chalice) (_Misc (Misc .) )))))))))) ) )\n",
      "(TOP (S2 (_Misc (Misc they) (_Misc (Misc migrate) (_Misc (Misc precisely) (_Misc (Misc because) (_Misc (Misc they) (_Misc (Misc know) (_Misc (Misc they) (_Misc (Misc will) (_Misc (Misc grow) (_Misc (Misc .) )))))))))) ) )\n",
      "(TOP (S2 (_Misc (Misc do) (_Misc (Misc not) (_Misc (Misc speak) (_Misc (Misc !) )))) ) )\n",
      "(TOP (S2 (_Proper (Proper Arthur) (_Misc (Misc will) (_Misc (Misc have) (_Misc (Misc been) (_Misc (Misc riding) (_Prep (Prep for) (_Misc (Misc eight) (_Misc (Misc nights) (_Misc (Misc .) ))))))))) ) )\n",
      "(TOP (S2 (_Proper (Proper Arthur) (_Misc (Misc ,) (_Misc (Misc sixty) (_Misc (Misc inches) (_Misc (Misc ,) (_VerbT (VerbT is) (_Det (Det a) (_Misc (Misc tiny) (_Noun (Noun king) (_Misc (Misc .) )))))))))) ) )\n",
      "(TOP (S2 (_Proper (Proper Arthur) (_Misc (Misc knows) (_Proper (Proper Patsy) (_Misc (Misc ,) (_Det (Det the) (_Misc (Misc trusty) (_Noun (Noun servant) (_Misc (Misc .) )))))))) ) )\n",
      "(TOP (S2 (_Proper (Proper Arthur) (_Misc (Misc and) (_Proper (Proper Guinevere) (_Misc (Misc migrate) (_Misc (Misc frequently) (_Misc (Misc .) )))))) ) )\n",
      "(TOP (S2 (_Misc (Misc he) (_Misc (Misc knows) (_Misc (Misc what) (_Misc (Misc they) (_Misc (Misc are) (_Misc (Misc covering) (_Prep (Prep with) (_Det (Det that) (_Noun (Noun story) (_Misc (Misc .) )))))))))) ) )\n",
      "(TOP (S2 (_Proper (Proper Arthur) (_Misc (Misc suggested) (_Det (Det that) (_Det (Det the) (_Noun (Noun castle) (_Misc (Misc be) (_Misc (Misc carried) (_Misc (Misc .) )))))))) ) )\n",
      "(TOP (S2 (_Det (Det the) (_Noun (Noun king) (_Misc (Misc drank) (_Misc (Misc to) (_Det (Det the) (_Noun (Noun castle) (_Det (Det that) (_Misc (Misc was) (_Misc (Misc his) (_Noun (Noun home) (_Misc (Misc .) ))))))))))) ) )\n",
      "(TOP (S2 (_Misc (Misc when) (_Det (Det the) (_Noun (Noun king) (_VerbT (VerbT drinks) (_Misc (Misc ,) (_Proper (Proper Patsy) (_VerbT (VerbT drinks) (_Misc (Misc .) )))))))) ) )\n",
      "-cross entropy: -10.276152770660259\n"
     ]
    },
    {
     "name": "stderr",
     "output_type": "stream",
     "text": [
      "#parsing: ['Arthur', 'is', 'the', 'king', '.']\n",
      "#parsing: ['Arthur', 'rides', 'the', 'horse', 'near', 'the', 'castle', '.']\n",
      "#parsing: ['riding', 'to', 'Camelot', 'is', 'hard', '.']\n",
      "#parsing: ['do', 'coconuts', 'speak', '?']\n",
      "#parsing: ['what', 'does', 'Arthur', 'ride', '?']\n",
      "#parsing: ['who', 'does', 'Arthur', 'suggest', 'she', 'carry', '?']\n",
      "#parsing: ['why', 'does', 'England', 'have', 'a', 'king', '?']\n",
      "#parsing: ['are', 'they', 'suggesting', 'Arthur', 'ride', 'to', 'Camelot', '?']\n",
      "#parsing: ['five', 'strangers', 'are', 'at', 'the', 'Round', 'Table', '.']\n",
      "#parsing: ['Guinevere', 'might', 'have', 'known', '.']\n",
      "#parsing: ['Guinevere', 'should', 'be', 'riding', 'with', 'Patsy', '.']\n",
      "#parsing: ['it', 'is', 'Sir', 'Lancelot', 'who', 'knows', 'Zoot', '!']\n",
      "#parsing: ['either', 'Arthur', 'knows', 'or', 'Patsy', 'does', '.']\n",
      "#parsing: ['neither', 'Sir', 'Lancelot', 'nor', 'Guinevere', 'will', 'speak', 'of', 'it', '.']\n",
      "#parsing: ['the', 'Holy', 'Grail', 'was', 'covered', 'by', 'a', 'yellow', 'fruit', '.']\n",
      "#parsing: ['Zoot', 'might', 'have', 'been', 'carried', 'by', 'a', 'swallow', '.']\n",
      "#parsing: ['Arthur', 'rode', 'to', 'Camelot', 'and', 'drank', 'from', 'his', 'chalice', '.']\n",
      "#parsing: ['they', 'migrate', 'precisely', 'because', 'they', 'know', 'they', 'will', 'grow', '.']\n",
      "#parsing: ['do', 'not', 'speak', '!']\n",
      "#parsing: ['Arthur', 'will', 'have', 'been', 'riding', 'for', 'eight', 'nights', '.']\n",
      "#parsing: ['Arthur', ',', 'sixty', 'inches', ',', 'is', 'a', 'tiny', 'king', '.']\n",
      "#parsing: ['Arthur', 'knows', 'Patsy', ',', 'the', 'trusty', 'servant', '.']\n",
      "#parsing: ['Arthur', 'and', 'Guinevere', 'migrate', 'frequently', '.']\n",
      "#parsing: ['he', 'knows', 'what', 'they', 'are', 'covering', 'with', 'that', 'story', '.']\n",
      "#parsing: ['Arthur', 'suggested', 'that', 'the', 'castle', 'be', 'carried', '.']\n",
      "#parsing: ['the', 'king', 'drank', 'to', 'the', 'castle', 'that', 'was', 'his', 'home', '.']\n",
      "#parsing: ['when', 'the', 'king', 'drinks', ',', 'Patsy', 'drinks', '.']\n",
      "#-cross entropy (bits/word): -10.2762\n"
     ]
    }
   ],
   "source": [
    "ce, trees = parser.parse_file('example_sentences.txt')\n",
    "print(\"-cross entropy: {}\".format(ce))"
   ]
  },
  {
   "cell_type": "markdown",
   "metadata": {},
   "source": [
    "## Generating sentences with your grammar\n",
    "\n",
    "While you are developing your grammar you should generate sentences with your grammar\n",
    "to check what your grammar is doing. Try to write your grammars to that it will \n",
    "generate hard to parse sentences."
   ]
  },
  {
   "cell_type": "code",
   "execution_count": 6,
   "metadata": {},
   "outputs": [
    {
     "name": "stderr",
     "output_type": "stream",
     "text": [
      "#reading grammar file: S1.gr\n",
      "#reading grammar file: Vocab.gr\n"
     ]
    }
   ],
   "source": [
    "gen_gram = Pcfg([\"S1.gr\",\"Vocab.gr\"])"
   ]
  },
  {
   "cell_type": "code",
   "execution_count": 7,
   "metadata": {},
   "outputs": [
    {
     "name": "stdout",
     "output_type": "stream",
     "text": [
      "a corner covers any corner\n",
      "this horse covers the king\n",
      "no corner has Dingo .\n",
      "each land drinks every land .\n",
      "every husk drinks Patsy .\n",
      "Sir Lancelot has each horse .\n",
      "no winter drinks no weight .\n",
      "each horse carries another castle across another master\n",
      "Zoot has the master\n",
      "any castle covers the defeater on no horse .\n",
      "every sovereign is that home .\n",
      "every land of a king carries Sir Bedevere\n",
      "any sovereign carries that swallow .\n",
      "the defeater rides the horse .\n",
      "every servant is another quest\n",
      "each sun rides this land .\n",
      "every husk rides that king\n",
      "no land drinks every defeater\n",
      "no castle covers that story .\n",
      "that swallow is the story .\n"
     ]
    }
   ],
   "source": [
    "gen = PcfgGenerator(gen_gram)\n",
    "for _ in range(20):\n",
    "    print(\" \".join(gen.generate()))"
   ]
  },
  {
   "cell_type": "code",
   "execution_count": 8,
   "metadata": {},
   "outputs": [
    {
     "name": "stdout",
     "output_type": "stream",
     "text": [
      "allowed_words.txt  draw_tree.py\t\t  README.md\t    unseen.tags\r\n",
      "cgw-default.ipynb  example_sentences.txt  requirements.txt  untitled.txt\r\n",
      "check-sample.py    pcfg_parse_gen.py\t  S1.gr\t\t    Vocab.gr\r\n",
      "devset.trees\t   print_tree.py\t  S2.gr\r\n",
      "devset.txt\t   __pycache__\t\t  test\r\n"
     ]
    }
   ],
   "source": [
    "!ls"
   ]
  },
  {
   "cell_type": "code",
   "execution_count": 10,
   "metadata": {},
   "outputs": [
    {
     "name": "stdout",
     "output_type": "stream",
     "text": [
      "Arthur is the king .\r\n",
      "Arthur rides the horse near the castle .\r\n",
      "riding to Camelot is hard .\r\n",
      "do coconuts speak ?\r\n",
      "what does Arthur ride ?\r\n",
      "who does Arthur suggest she carry ?\r\n",
      "why does England have a king ?\r\n",
      "are they suggesting Arthur ride to Camelot ?\r\n",
      "five strangers are at the Round Table .\r\n",
      "Guinevere might have known .\r\n",
      "Guinevere should be riding with Patsy .\r\n",
      "it is Sir Lancelot who knows Zoot !\r\n",
      "either Arthur knows or Patsy does .\r\n",
      "neither Sir Lancelot nor Guinevere will speak of it .\r\n",
      "the Holy Grail was covered by a yellow fruit .\r\n",
      "Zoot might have been carried by a swallow .\r\n",
      "Arthur rode to Camelot and drank from his chalice .\r\n",
      "they migrate precisely because they know they will grow .\r\n",
      "do not speak !\r\n",
      "Arthur will have been riding for eight nights .\r\n",
      "Arthur , sixty inches , is a tiny king .\r\n",
      "Arthur knows Patsy , the trusty servant .\r\n",
      "Arthur and Guinevere migrate frequently .\r\n",
      "he knows what they are covering with that story .\r\n",
      "Arthur suggested that the castle be carried .\r\n",
      "the king drank to the castle that was his home .\r\n",
      "when the king drinks , Patsy drinks .\r\n"
     ]
    }
   ],
   "source": [
    "!cat example_sentences.txt"
   ]
  },
  {
   "cell_type": "code",
   "execution_count": 14,
   "metadata": {},
   "outputs": [
    {
     "name": "stdout",
     "output_type": "stream",
     "text": [
      "Arthur is the king .\n",
      "\n",
      "Arthur rides the horse near the castle .\n",
      "\n",
      "riding to Camelot is hard .\n",
      "\n",
      "do coconuts speak ?\n",
      "\n",
      "what does Arthur ride ?\n",
      "\n",
      "who does Arthur suggest she carry ?\n",
      "\n",
      "why does England have a king ?\n",
      "\n",
      "are they suggesting Arthur ride to Camelot ?\n",
      "\n",
      "five strangers are at the Round Table .\n",
      "\n",
      "Guinevere might have known .\n",
      "\n",
      "Guinevere should be riding with Patsy .\n",
      "\n",
      "it is Sir Lancelot who knows Zoot !\n",
      "\n",
      "either Arthur knows or Patsy does .\n",
      "\n",
      "neither Sir Lancelot nor Guinevere will speak of it .\n",
      "\n",
      "the Holy Grail was covered by a yellow fruit .\n",
      "\n",
      "Zoot might have been carried by a swallow .\n",
      "\n",
      "Arthur rode to Camelot and drank from his chalice .\n",
      "\n",
      "they migrate precisely because they know they will grow .\n",
      "\n",
      "do not speak !\n",
      "\n",
      "Arthur will have been riding for eight nights .\n",
      "\n",
      "Arthur , sixty inches , is a tiny king .\n",
      "\n",
      "Arthur knows Patsy , the trusty servant .\n",
      "\n",
      "Arthur and Guinevere migrate frequently .\n",
      "\n",
      "he knows what they are covering with that story .\n",
      "\n",
      "Arthur suggested that the castle be carried .\n",
      "\n",
      "the king drank to the castle that was his home .\n",
      "\n",
      "when the king drinks , Patsy drinks .\n",
      "\n"
     ]
    }
   ],
   "source": [
    "f =  open(\"example_sentences.txt\") \n",
    "for line in f : \n",
    "    print(line)"
   ]
  },
  {
   "cell_type": "code",
   "execution_count": 16,
   "metadata": {},
   "outputs": [
    {
     "ename": "LookupError",
     "evalue": "\n**********************************************************************\n  Resource \u001b[93mpunkt\u001b[0m not found.\n  Please use the NLTK Downloader to obtain the resource:\n\n  \u001b[31m>>> import nltk\n  >>> nltk.download('punkt')\n  \u001b[0m\n  Searched in:\n    - '/home/ekamd/nltk_data'\n    - '/usr/share/nltk_data'\n    - '/usr/local/share/nltk_data'\n    - '/usr/lib/nltk_data'\n    - '/usr/local/lib/nltk_data'\n    - '/home/ekamd/nlpclass-1187-g-Mad_Titans/venv/nltk_data'\n    - '/home/ekamd/nlpclass-1187-g-Mad_Titans/venv/share/nltk_data'\n    - '/home/ekamd/nlpclass-1187-g-Mad_Titans/venv/lib/nltk_data'\n    - ''\n**********************************************************************\n",
     "output_type": "error",
     "traceback": [
      "\u001b[0;31m---------------------------------------------------------------------------\u001b[0m",
      "\u001b[0;31mLookupError\u001b[0m                               Traceback (most recent call last)",
      "\u001b[0;32m<ipython-input-16-635b1effc5aa>\u001b[0m in \u001b[0;36m<module>\u001b[0;34m()\u001b[0m\n\u001b[0;32m----> 1\u001b[0;31m \u001b[0mtokens\u001b[0m \u001b[0;34m=\u001b[0m \u001b[0mnltk\u001b[0m\u001b[0;34m.\u001b[0m\u001b[0mword_tokenize\u001b[0m\u001b[0;34m(\u001b[0m\u001b[0mf\u001b[0m\u001b[0;34m)\u001b[0m\u001b[0;34m\u001b[0m\u001b[0m\n\u001b[0m",
      "\u001b[0;32m~/nlpclass-1187-g-Mad_Titans/venv/lib/python3.7/site-packages/nltk/tokenize/__init__.py\u001b[0m in \u001b[0;36mword_tokenize\u001b[0;34m(text, language, preserve_line)\u001b[0m\n\u001b[1;32m    126\u001b[0m     \u001b[0;34m:\u001b[0m\u001b[0mtype\u001b[0m \u001b[0mpreserver_line\u001b[0m\u001b[0;34m:\u001b[0m \u001b[0mbool\u001b[0m\u001b[0;34m\u001b[0m\u001b[0m\n\u001b[1;32m    127\u001b[0m     \"\"\"\n\u001b[0;32m--> 128\u001b[0;31m     \u001b[0msentences\u001b[0m \u001b[0;34m=\u001b[0m \u001b[0;34m[\u001b[0m\u001b[0mtext\u001b[0m\u001b[0;34m]\u001b[0m \u001b[0;32mif\u001b[0m \u001b[0mpreserve_line\u001b[0m \u001b[0;32melse\u001b[0m \u001b[0msent_tokenize\u001b[0m\u001b[0;34m(\u001b[0m\u001b[0mtext\u001b[0m\u001b[0;34m,\u001b[0m \u001b[0mlanguage\u001b[0m\u001b[0;34m)\u001b[0m\u001b[0;34m\u001b[0m\u001b[0m\n\u001b[0m\u001b[1;32m    129\u001b[0m     return [token for sent in sentences\n\u001b[1;32m    130\u001b[0m             for token in _treebank_word_tokenizer.tokenize(sent)]\n",
      "\u001b[0;32m~/nlpclass-1187-g-Mad_Titans/venv/lib/python3.7/site-packages/nltk/tokenize/__init__.py\u001b[0m in \u001b[0;36msent_tokenize\u001b[0;34m(text, language)\u001b[0m\n\u001b[1;32m     92\u001b[0m     \u001b[0;34m:\u001b[0m\u001b[0mparam\u001b[0m \u001b[0mlanguage\u001b[0m\u001b[0;34m:\u001b[0m \u001b[0mthe\u001b[0m \u001b[0mmodel\u001b[0m \u001b[0mname\u001b[0m \u001b[0;32min\u001b[0m \u001b[0mthe\u001b[0m \u001b[0mPunkt\u001b[0m \u001b[0mcorpus\u001b[0m\u001b[0;34m\u001b[0m\u001b[0m\n\u001b[1;32m     93\u001b[0m     \"\"\"\n\u001b[0;32m---> 94\u001b[0;31m     \u001b[0mtokenizer\u001b[0m \u001b[0;34m=\u001b[0m \u001b[0mload\u001b[0m\u001b[0;34m(\u001b[0m\u001b[0;34m'tokenizers/punkt/{0}.pickle'\u001b[0m\u001b[0;34m.\u001b[0m\u001b[0mformat\u001b[0m\u001b[0;34m(\u001b[0m\u001b[0mlanguage\u001b[0m\u001b[0;34m)\u001b[0m\u001b[0;34m)\u001b[0m\u001b[0;34m\u001b[0m\u001b[0m\n\u001b[0m\u001b[1;32m     95\u001b[0m     \u001b[0;32mreturn\u001b[0m \u001b[0mtokenizer\u001b[0m\u001b[0;34m.\u001b[0m\u001b[0mtokenize\u001b[0m\u001b[0;34m(\u001b[0m\u001b[0mtext\u001b[0m\u001b[0;34m)\u001b[0m\u001b[0;34m\u001b[0m\u001b[0m\n\u001b[1;32m     96\u001b[0m \u001b[0;34m\u001b[0m\u001b[0m\n",
      "\u001b[0;32m~/nlpclass-1187-g-Mad_Titans/venv/lib/python3.7/site-packages/nltk/data.py\u001b[0m in \u001b[0;36mload\u001b[0;34m(resource_url, format, cache, verbose, logic_parser, fstruct_reader, encoding)\u001b[0m\n\u001b[1;32m    834\u001b[0m \u001b[0;34m\u001b[0m\u001b[0m\n\u001b[1;32m    835\u001b[0m     \u001b[0;31m# Load the resource.\u001b[0m\u001b[0;34m\u001b[0m\u001b[0;34m\u001b[0m\u001b[0m\n\u001b[0;32m--> 836\u001b[0;31m     \u001b[0mopened_resource\u001b[0m \u001b[0;34m=\u001b[0m \u001b[0m_open\u001b[0m\u001b[0;34m(\u001b[0m\u001b[0mresource_url\u001b[0m\u001b[0;34m)\u001b[0m\u001b[0;34m\u001b[0m\u001b[0m\n\u001b[0m\u001b[1;32m    837\u001b[0m \u001b[0;34m\u001b[0m\u001b[0m\n\u001b[1;32m    838\u001b[0m     \u001b[0;32mif\u001b[0m \u001b[0mformat\u001b[0m \u001b[0;34m==\u001b[0m \u001b[0;34m'raw'\u001b[0m\u001b[0;34m:\u001b[0m\u001b[0;34m\u001b[0m\u001b[0m\n",
      "\u001b[0;32m~/nlpclass-1187-g-Mad_Titans/venv/lib/python3.7/site-packages/nltk/data.py\u001b[0m in \u001b[0;36m_open\u001b[0;34m(resource_url)\u001b[0m\n\u001b[1;32m    952\u001b[0m \u001b[0;34m\u001b[0m\u001b[0m\n\u001b[1;32m    953\u001b[0m     \u001b[0;32mif\u001b[0m \u001b[0mprotocol\u001b[0m \u001b[0;32mis\u001b[0m \u001b[0;32mNone\u001b[0m \u001b[0;32mor\u001b[0m \u001b[0mprotocol\u001b[0m\u001b[0;34m.\u001b[0m\u001b[0mlower\u001b[0m\u001b[0;34m(\u001b[0m\u001b[0;34m)\u001b[0m \u001b[0;34m==\u001b[0m \u001b[0;34m'nltk'\u001b[0m\u001b[0;34m:\u001b[0m\u001b[0;34m\u001b[0m\u001b[0m\n\u001b[0;32m--> 954\u001b[0;31m         \u001b[0;32mreturn\u001b[0m \u001b[0mfind\u001b[0m\u001b[0;34m(\u001b[0m\u001b[0mpath_\u001b[0m\u001b[0;34m,\u001b[0m \u001b[0mpath\u001b[0m \u001b[0;34m+\u001b[0m \u001b[0;34m[\u001b[0m\u001b[0;34m''\u001b[0m\u001b[0;34m]\u001b[0m\u001b[0;34m)\u001b[0m\u001b[0;34m.\u001b[0m\u001b[0mopen\u001b[0m\u001b[0;34m(\u001b[0m\u001b[0;34m)\u001b[0m\u001b[0;34m\u001b[0m\u001b[0m\n\u001b[0m\u001b[1;32m    955\u001b[0m     \u001b[0;32melif\u001b[0m \u001b[0mprotocol\u001b[0m\u001b[0;34m.\u001b[0m\u001b[0mlower\u001b[0m\u001b[0;34m(\u001b[0m\u001b[0;34m)\u001b[0m \u001b[0;34m==\u001b[0m \u001b[0;34m'file'\u001b[0m\u001b[0;34m:\u001b[0m\u001b[0;34m\u001b[0m\u001b[0m\n\u001b[1;32m    956\u001b[0m         \u001b[0;31m# urllib might not use mode='rb', so handle this one ourselves:\u001b[0m\u001b[0;34m\u001b[0m\u001b[0;34m\u001b[0m\u001b[0m\n",
      "\u001b[0;32m~/nlpclass-1187-g-Mad_Titans/venv/lib/python3.7/site-packages/nltk/data.py\u001b[0m in \u001b[0;36mfind\u001b[0;34m(resource_name, paths)\u001b[0m\n\u001b[1;32m    673\u001b[0m     \u001b[0msep\u001b[0m \u001b[0;34m=\u001b[0m \u001b[0;34m'*'\u001b[0m \u001b[0;34m*\u001b[0m \u001b[0;36m70\u001b[0m\u001b[0;34m\u001b[0m\u001b[0m\n\u001b[1;32m    674\u001b[0m     \u001b[0mresource_not_found\u001b[0m \u001b[0;34m=\u001b[0m \u001b[0;34m'\\n%s\\n%s\\n%s\\n'\u001b[0m \u001b[0;34m%\u001b[0m \u001b[0;34m(\u001b[0m\u001b[0msep\u001b[0m\u001b[0;34m,\u001b[0m \u001b[0mmsg\u001b[0m\u001b[0;34m,\u001b[0m \u001b[0msep\u001b[0m\u001b[0;34m)\u001b[0m\u001b[0;34m\u001b[0m\u001b[0m\n\u001b[0;32m--> 675\u001b[0;31m     \u001b[0;32mraise\u001b[0m \u001b[0mLookupError\u001b[0m\u001b[0;34m(\u001b[0m\u001b[0mresource_not_found\u001b[0m\u001b[0;34m)\u001b[0m\u001b[0;34m\u001b[0m\u001b[0m\n\u001b[0m\u001b[1;32m    676\u001b[0m \u001b[0;34m\u001b[0m\u001b[0m\n\u001b[1;32m    677\u001b[0m \u001b[0;34m\u001b[0m\u001b[0m\n",
      "\u001b[0;31mLookupError\u001b[0m: \n**********************************************************************\n  Resource \u001b[93mpunkt\u001b[0m not found.\n  Please use the NLTK Downloader to obtain the resource:\n\n  \u001b[31m>>> import nltk\n  >>> nltk.download('punkt')\n  \u001b[0m\n  Searched in:\n    - '/home/ekamd/nltk_data'\n    - '/usr/share/nltk_data'\n    - '/usr/local/share/nltk_data'\n    - '/usr/lib/nltk_data'\n    - '/usr/local/lib/nltk_data'\n    - '/home/ekamd/nlpclass-1187-g-Mad_Titans/venv/nltk_data'\n    - '/home/ekamd/nlpclass-1187-g-Mad_Titans/venv/share/nltk_data'\n    - '/home/ekamd/nlpclass-1187-g-Mad_Titans/venv/lib/nltk_data'\n    - ''\n**********************************************************************\n"
     ]
    }
   ],
   "source": [
    "tokens = nltk.word_tokenize(f)"
   ]
  },
  {
   "cell_type": "code",
   "execution_count": null,
   "metadata": {},
   "outputs": [
    {
     "name": "stdout",
     "output_type": "stream",
     "text": [
      "showing info https://raw.githubusercontent.com/nltk/nltk_data/gh-pages/index.xml\n"
     ]
    }
   ],
   "source": [
    "nltk.download()"
   ]
  },
  {
   "cell_type": "code",
   "execution_count": null,
   "metadata": {},
   "outputs": [],
   "source": []
  }
 ],
 "metadata": {
  "kernelspec": {
   "display_name": "Python 3",
   "language": "python",
   "name": "python3"
  },
  "language_info": {
   "codemirror_mode": {
    "name": "ipython",
    "version": 3
   },
   "file_extension": ".py",
   "mimetype": "text/x-python",
   "name": "python",
   "nbconvert_exporter": "python",
   "pygments_lexer": "ipython3",
   "version": "3.7.0"
  }
 },
 "nbformat": 4,
 "nbformat_minor": 2
}
